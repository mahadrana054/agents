{
 "cells": [
  {
   "cell_type": "markdown",
   "metadata": {},
   "source": [
    "# Welcome to the start of your adventure in Agentic AI"
   ]
  },
  {
   "cell_type": "markdown",
   "metadata": {},
   "source": [
    "<table style=\"margin: 0; text-align: left; width:100%\">\n",
    "    <tr>\n",
    "        <td style=\"width: 150px; height: 150px; vertical-align: middle;\">\n",
    "            <img src=\"../assets/stop.png\" width=\"150\" height=\"150\" style=\"display: block;\" />\n",
    "        </td>\n",
    "        <td>\n",
    "            <h2 style=\"color:#ff7800;\">Are you ready for action??</h2>\n",
    "            <span style=\"color:#ff7800;\">Have you completed all the setup steps in the <a href=\"../setup/\">setup</a> folder?<br/>\n",
    "            Have you read the <a href=\"../README.md\">README</a>? Many common questions are answered here!<br/>\n",
    "            Have you checked out the guides in the <a href=\"../guides/01_intro.ipynb\">guides</a> folder?<br/>\n",
    "            Well in that case, you're ready!!\n",
    "            </span>\n",
    "        </td>\n",
    "    </tr>\n",
    "</table>"
   ]
  },
  {
   "cell_type": "markdown",
   "metadata": {},
   "source": [
    "<table style=\"margin: 0; text-align: left; width:100%\">\n",
    "    <tr>\n",
    "        <td style=\"width: 150px; height: 150px; vertical-align: middle;\">\n",
    "            <img src=\"../assets/tools.png\" width=\"150\" height=\"150\" style=\"display: block;\" />\n",
    "        </td>\n",
    "        <td>\n",
    "            <h2 style=\"color:#00bfff;\">This code is a live resource - keep an eye out for my updates</h2>\n",
    "            <span style=\"color:#00bfff;\">I push updates regularly. As people ask questions or have problems, I add more examples and improve explanations. As a result, the code below might not be identical to the videos, as I've added more steps and better comments. Consider this like an interactive book that accompanies the lectures.<br/><br/>\n",
    "            I try to send emails regularly with important updates related to the course. You can find this in the 'Announcements' section of Udemy in the left sidebar. You can also choose to receive my emails via your Notification Settings in Udemy. I'm respectful of your inbox and always try to add value with my emails!\n",
    "            </span>\n",
    "        </td>\n",
    "    </tr>\n",
    "</table>"
   ]
  },
  {
   "cell_type": "markdown",
   "metadata": {},
   "source": [
    "### And please do remember to contact me if I can help\n",
    "\n",
    "And I love to connect: https://www.linkedin.com/in/eddonner/\n",
    "\n",
    "\n",
    "### New to Notebooks like this one? Head over to the guides folder!\n",
    "\n",
    "Just to check you've already added the Python and Jupyter extensions to Cursor, if not already installed:\n",
    "- Open extensions (View >> extensions)\n",
    "- Search for python, and when the results show, click on the ms-python one, and Install it if not already installed\n",
    "- Search for jupyter, and when the results show, click on the Microsoft one, and Install it if not already installed  \n",
    "Then View >> Explorer to bring back the File Explorer.\n",
    "\n",
    "And then:\n",
    "1. Click where it says \"Select Kernel\" near the top right, and select the option called `.venv (Python 3.12.9)` or similar, which should be the first choice or the most prominent choice. You may need to choose \"Python Environments\" first.\n",
    "2. Click in each \"cell\" below, starting with the cell immediately below this text, and press Shift+Enter to run\n",
    "3. Enjoy!\n",
    "\n",
    "After you click \"Select Kernel\", if there is no option like `.venv (Python 3.12.9)` then please do the following:  \n",
    "1. On Mac: From the Cursor menu, choose Settings >> VS Code Settings (NOTE: be sure to select `VSCode Settings` not `Cursor Settings`);  \n",
    "On Windows PC: From the File menu, choose Preferences >> VS Code Settings(NOTE: be sure to select `VSCode Settings` not `Cursor Settings`)  \n",
    "2. In the Settings search bar, type \"venv\"  \n",
    "3. In the field \"Path to folder with a list of Virtual Environments\" put the path to the project root, like C:\\Users\\username\\projects\\agents (on a Windows PC) or /Users/username/projects/agents (on Mac or Linux).  \n",
    "And then try again.\n",
    "\n",
    "Having problems with missing Python versions in that list? Have you ever used Anaconda before? It might be interferring. Quit Cursor, bring up a new command line, and make sure that your Anaconda environment is deactivated:    \n",
    "`conda deactivate`  \n",
    "And if you still have any problems with conda and python versions, it's possible that you will need to run this too:  \n",
    "`conda config --set auto_activate_base false`  \n",
    "and then from within the Agents directory, you should be able to run `uv python list` and see the Python 3.12 version."
   ]
  },
  {
   "cell_type": "code",
   "execution_count": 1,
   "metadata": {},
   "outputs": [],
   "source": [
    "# First let's do an import. If you get an Import Error, double check that your Kernel is correct..\n",
    "\n",
    "from dotenv import load_dotenv\n"
   ]
  },
  {
   "cell_type": "code",
   "execution_count": 2,
   "metadata": {},
   "outputs": [
    {
     "data": {
      "text/plain": [
       "True"
      ]
     },
     "execution_count": 2,
     "metadata": {},
     "output_type": "execute_result"
    }
   ],
   "source": [
    "# Next it's time to load the API keys into environment variables\n",
    "# If this returns false, see the next cell!\n",
    "\n",
    "load_dotenv(override=True)"
   ]
  },
  {
   "cell_type": "markdown",
   "metadata": {},
   "source": [
    "### Wait, did that just output `False`??\n",
    "\n",
    "If so, the most common reason is that you didn't save your `.env` file after adding the key! Be sure to have saved.\n",
    "\n",
    "Also, make sure the `.env` file is named precisely `.env` and is in the project root directory (`agents`)\n",
    "\n",
    "By the way, your `.env` file should have a stop symbol next to it in Cursor on the left, and that's actually a good thing: that's Cursor saying to you, \"hey, I realize this is a file filled with secret information, and I'm not going to send it to an external AI to suggest changes, because your keys should not be shown to anyone else.\""
   ]
  },
  {
   "cell_type": "markdown",
   "metadata": {},
   "source": [
    "<table style=\"margin: 0; text-align: left; width:100%\">\n",
    "    <tr>\n",
    "        <td style=\"width: 150px; height: 150px; vertical-align: middle;\">\n",
    "            <img src=\"../assets/stop.png\" width=\"150\" height=\"150\" style=\"display: block;\" />\n",
    "        </td>\n",
    "        <td>\n",
    "            <h2 style=\"color:#ff7800;\">Final reminders</h2>\n",
    "            <span style=\"color:#ff7800;\">1. If you're not confident about Environment Variables or Web Endpoints / APIs, please read Topics 3 and 5 in this <a href=\"../guides/04_technical_foundations.ipynb\">technical foundations guide</a>.<br/>\n",
    "            2. If you want to use AIs other than OpenAI, like Gemini, DeepSeek or Ollama (free), please see the first section in this <a href=\"../guides/09_ai_apis_and_ollama.ipynb\">AI APIs guide</a>.<br/>\n",
    "            3. If you ever get a Name Error in Python, you can always fix it immediately; see the last section of this <a href=\"../guides/06_python_foundations.ipynb\">Python Foundations guide</a> and follow both tutorials and exercises.<br/>\n",
    "            </span>\n",
    "        </td>\n",
    "    </tr>\n",
    "</table>"
   ]
  },
  {
   "cell_type": "code",
   "execution_count": 3,
   "metadata": {},
   "outputs": [
    {
     "name": "stdout",
     "output_type": "stream",
     "text": [
      "Gemini API Key exists and begins AIzaSyB8\n"
     ]
    }
   ],
   "source": [
    "# Check the key - if you're not using OpenAI, check whichever key you're using! Ollama doesn't need a key.\n",
    "\n",
    "import os\n",
    "gemini_api_key = os.getenv('GEMINI_API_KEY')\n",
    "\n",
    "if gemini_api_key:\n",
    "    print(f\"Gemini API Key exists and begins {gemini_api_key[:8]}\")\n",
    "else:\n",
    "    print(\"Gemini API Key not set - please head to the troubleshooting guide in the setup folder\")\n",
    "    \n"
   ]
  },
  {
   "cell_type": "code",
   "execution_count": 6,
   "metadata": {},
   "outputs": [],
   "source": [
    "# And now - the all important import statement\n",
    "# If you get an import error - head over to troubleshooting in the Setup folder\n",
    "# Even for other LLM providers like Gemini, you still use this OpenAI import - see Guide 9 for why\n",
    "\n",
    "import google.generativeai as genai"
   ]
  },
  {
   "cell_type": "code",
   "execution_count": 10,
   "metadata": {},
   "outputs": [],
   "source": [
    "# And now we'll create an instance of the OpenAI class\n",
    "# If you're not sure what it means to create an instance of a class - head over to the guides folder (guide 6)!\n",
    "# If you get a NameError - head over to the guides folder (guide 6)to learn about NameErrors - always instantly fixable\n",
    "# If you're not using OpenAI, you just need to slightly modify this - precise instructions are in the AI APIs guide (guide 9)\n",
    "\n",
    "model = genai.GenerativeModel(\"gemini-2.5-flash-lite\")"
   ]
  },
  {
   "cell_type": "code",
   "execution_count": null,
   "metadata": {},
   "outputs": [],
   "source": [
    "# Create a list of messages in the familiar OpenAI format\n",
    "\n",
    "messages = [\n",
    "    {\"role\": \"user\", \"parts\": [\"What is 2+2?\"]}\n",
    "]"
   ]
  },
  {
   "cell_type": "code",
   "execution_count": 20,
   "metadata": {},
   "outputs": [
    {
     "name": "stdout",
     "output_type": "stream",
     "text": [
      "2 + 2 = 4\n"
     ]
    }
   ],
   "source": [
    "# And now call it! Any problems, head to the troubleshooting guide\n",
    "# This uses GPT 4.1 nano, the incredibly cheap model\n",
    "# The APIs guide (guide 9) has exact instructions for using even cheaper or free alternatives to OpenAI\n",
    "# If you get a NameError, head to the guides folder (guide 6) to learn about NameErrors - always instantly fixable\n",
    "\n",
    "response = model.generate_content(\"What is 2+2?\")\n",
    "\n",
    "print(response.text)\n"
   ]
  },
  {
   "cell_type": "code",
   "execution_count": null,
   "metadata": {},
   "outputs": [
    {
     "name": "stdout",
     "output_type": "stream",
     "text": [
      "Consider the following sequence of numbers:\n",
      "\n",
      "1, 11, 21, 1211, 111221, 312211, 13112221, ...\n",
      "\n",
      "What is the next number in this sequence?\n"
     ]
    }
   ],
   "source": [
    "# ask it - this uses GPT 4.1 mini, still cheap but more powerful than nano\n",
    "\n",
    "response = model.generate_content(\n",
    "     \"Generate one hard and challenging IQ test question. Do not explain, just return the question.\"\n",
    ")\n",
    "print(response.text)\n"
   ]
  },
  {
   "cell_type": "code",
   "execution_count": 29,
   "metadata": {},
   "outputs": [
    {
     "name": "stdout",
     "output_type": "stream",
     "text": [
      "1132132112\n"
     ]
    }
   ],
   "source": [
    "# Ask it again\n",
    "\n",
    "response = model.generate_content(\n",
    "     \"Consider the sequence: 1, 11, 21, 1211, 111221, 312211, 13112221. What is the next number in this sequence? Answer only with the number, no explanation.\"\n",
    ")\n",
    "\n",
    "\n",
    "\n",
    "\n",
    "print(response.text)\n"
   ]
  },
  {
   "cell_type": "code",
   "execution_count": null,
   "metadata": {},
   "outputs": [],
   "source": [
    "from IPython.display import Markdown, display\n",
    "\n",
    "display(Markdown(answer))\n",
    "\n"
   ]
  },
  {
   "cell_type": "markdown",
   "metadata": {},
   "source": [
    "# Congratulations!\n",
    "\n",
    "That was a small, simple step in the direction of Agentic AI, with your new environment!\n",
    "\n",
    "Next time things get more interesting..."
   ]
  },
  {
   "cell_type": "markdown",
   "metadata": {},
   "source": [
    "<table style=\"margin: 0; text-align: left; width:100%\">\n",
    "    <tr>\n",
    "        <td style=\"width: 150px; height: 150px; vertical-align: middle;\">\n",
    "            <img src=\"../assets/exercise.png\" width=\"150\" height=\"150\" style=\"display: block;\" />\n",
    "        </td>\n",
    "        <td>\n",
    "            <h2 style=\"color:#ff7800;\">Exercise</h2>\n",
    "            <span style=\"color:#ff7800;\">Now try this commercial application:<br/>\n",
    "            First ask the LLM to pick a business area that might be worth exploring for an Agentic AI opportunity.<br/>\n",
    "            Then ask the LLM to present a pain-point in that industry - something challenging that might be ripe for an Agentic solution.<br/>\n",
    "            Finally have 3 third LLM call propose the Agentic AI solution. <br/>\n",
    "            We will cover this at up-coming labs, so don't worry if you're unsure.. just give it a try!\n",
    "            </span>\n",
    "        </td>\n",
    "    </tr>\n",
    "</table>"
   ]
  },
  {
   "cell_type": "code",
   "execution_count": 34,
   "metadata": {},
   "outputs": [
    {
     "name": "stdout",
     "output_type": "stream",
     "text": [
      "Let's explore the **Agriculture Sector** in Pakistan as a prime candidate for an Agentic AI opportunity.\n",
      "\n",
      "Here's why it's a compelling choice and how Agentic AI could be applied:\n",
      "\n",
      "**Why the Agriculture Sector in Pakistan is a Strong Candidate:**\n",
      "\n",
      "*   **Dominant Economic Contributor:** Agriculture is the backbone of Pakistan's economy, employing a significant portion of the population and contributing substantially to GDP.\n",
      "*   **Vulnerability to External Factors:** The sector is highly susceptible to unpredictable factors like weather patterns (monsoons, droughts, floods), pest infestations, and soil degradation.\n",
      "*   **Information Asymmetry:** Smallholder farmers often lack access to timely and accurate information regarding best farming practices, market prices, weather forecasts, and disease outbreaks.\n",
      "*   **Need for Efficiency and Yield Improvement:** To feed a growing population and increase export potential, there's a constant need to improve crop yields, reduce waste, and optimize resource usage (water, fertilizers).\n",
      "*   **Emerging Digitalization:** While traditional, there's a growing penetration of mobile phones and increasing internet access, creating a platform for digital solutions.\n",
      "*   **Government Focus and Potential Support:** The government often prioritizes agricultural development, making it a sector where innovative solutions might find receptive ears and potential partnerships.\n",
      "\n",
      "**Agentic AI Opportunity: Precision Agriculture & Farmer Advisory System**\n",
      "\n",
      "An Agentic AI system could be developed to act as a **\"Digital Farm Manager & Advisor\"** for individual farmers or farmer cooperatives. This agent would possess the ability to:\n",
      "\n",
      "**Core Capabilities of the Agentic AI:**\n",
      "\n",
      "1.  **Data Ingestion and Analysis:**\n",
      "    *   **Weather Data:** Ingest real-time and historical weather data from meteorological agencies, satellite imagery, and localized sensors.\n",
      "    *   **Soil Data:** Integrate soil sensor data (if available) or use broader regional soil maps to understand nutrient levels and composition.\n",
      "    *   **Crop Data:** Learn about specific crop types, their growth stages, and optimal conditions.\n",
      "    *   **Pest & Disease Data:** Monitor reports of pest outbreaks and disease prevalence in the region.\n",
      "    *   **Market Price Data:** Track commodity prices from local and national markets.\n",
      "    *   **Satellite & Drone Imagery:** Process imagery for crop health monitoring, identifying stress, nutrient deficiencies, and pest infestations.\n",
      "\n",
      "2.  **Proactive Monitoring and Alerting:**\n",
      "    *   **Predictive Weather Alerts:** Warn farmers of upcoming extreme weather events (frost, heavy rain, drought) and suggest preemptive actions (e.g., irrigation adjustments, covering crops).\n",
      "    *   **Pest & Disease Early Warning:** Identify early signs of pest infestations or disease outbreaks based on analyzed data and local reports, recommending targeted and timely interventions.\n",
      "    *   **Nutrient Deficiency Detection:** Flag potential nutrient deficiencies based on crop health indicators and suggest appropriate fertilizer applications.\n",
      "\n",
      "3.  **Personalized Recommendation Engine:**\n",
      "    *   **Optimized Irrigation:** Recommend precise watering schedules and quantities based on crop type, growth stage, soil moisture, and weather forecasts, minimizing water wastage.\n",
      "    *   **Targeted Fertilization:** Advise on the type, amount, and timing of fertilizer application to maximize nutrient uptake and minimize environmental impact.\n",
      "    *   **Pesticide & Herbicide Application:** Recommend the most effective and eco-friendly treatments, specifying the type, dosage, and application method, and importantly, the precise area needing treatment.\n",
      "    *   **Planting & Harvesting Recommendations:** Suggest optimal planting windows and harvest times based on weather predictions and crop maturity.\n",
      "    *   **Crop Rotation Advice:** Recommend suitable crop rotations to improve soil health and manage pests.\n",
      "\n",
      "4.  **Market Intelligence and Sales Support:**\n",
      "    *   **Price Forecasting:** Provide insights into potential price fluctuations for different crops in various markets.\n",
      "    *   **Demand Prediction:** Offer guidance on which crops might have higher demand in the near future.\n",
      "    *   **Connecting with Buyers:** Potentially facilitate connections with local buyers or cooperatives based on harvested produce.\n",
      "\n",
      "5.  **Interactive Learning and Support:**\n",
      "    *   **Natural Language Interaction:** Allow farmers to ask questions in their local language (e.g., Urdu, Punjabi, Sindhi) and receive clear, actionable advice.\n",
      "    *   **Visual Aids:** Provide visual guides or short video clips demonstrating recommended practices.\n",
      "    *   **Feedback Loop:** Learn from the outcomes of its recommendations and adapt its strategies over time.\n",
      "\n",
      "**How Agentic AI Enhances This Opportunity:**\n",
      "\n",
      "*   **Autonomy:** The agent can independently monitor data streams, identify issues, and formulate recommendations without constant human oversight.\n",
      "*   **Adaptability:** It can learn from new data, farmer feedback, and evolving environmental conditions to continuously improve its performance.\n",
      "*   **Proactiveness:** It doesn't just react to problems; it anticipates them and suggests preventative measures.\n",
      "*   **Personalization:** It can tailor recommendations to the specific needs and context of each individual farm.\n",
      "*   **Scalability:** Once developed, such a system can be scaled to serve millions of farmers across Pakistan.\n",
      "\n",
      "**Potential Business Models:**\n",
      "\n",
      "*   **Subscription-based Service:** Farmers pay a monthly or annual fee for access to the advisory system.\n",
      "*   **Freemium Model:** Basic services are free, with premium features (e.g., advanced analytics, direct buyer connections) available for a fee.\n",
      "*   **Partnerships with Agricultural Input Providers:** Collaborating with fertilizer companies, seed suppliers, or equipment manufacturers for targeted marketing or bundled services.\n",
      "*   **Government/NGO Grants & Partnerships:** Seeking funding from government initiatives or NGOs focused on agricultural development.\n",
      "*   **Data Monetization (Ethically):** Aggregating anonymized data to provide insights to researchers, policymakers, or larger agricultural businesses (with explicit consent).\n",
      "\n",
      "**Challenges and Considerations:**\n",
      "\n",
      "*   **Digital Literacy:** Ensuring the interface is user-friendly and accessible to farmers with varying levels of digital literacy.\n",
      "*   **Connectivity:** Addressing potential limitations in internet access in rural areas.\n",
      "*   **Data Availability & Quality:** Ensuring access to reliable and granular data for accurate analysis.\n",
      "*   **Trust and Adoption:** Building trust with farmers and demonstrating the tangible benefits of the system.\n",
      "*   **Language Barriers:** Developing robust natural language processing for local dialects.\n",
      "*   **Cost-Effectiveness:** Ensuring the service is affordable for smallholder farmers.\n",
      "\n",
      "**In conclusion, an Agentic AI-powered Precision Agriculture & Farmer Advisory System presents a significant and impactful opportunity in Pakistan's agriculture sector. By providing intelligent, personalized, and proactive guidance, such a system can empower farmers, improve yields, enhance sustainability, and contribute to the overall economic prosperity of the nation.**\n"
     ]
    }
   ],
   "source": [
    "# First create the messages:\n",
    "\n",
    "messages = [\n",
    "    {\"role\": \"user\", \"parts\": [\"Pick a Business that might worth exploring for an Agentic AI opportunity in Pakistan\"]}\n",
    "    ]\n",
    "\n",
    "# Then make the first call:\n",
    "\n",
    "response = model.generate_content(messages)\n",
    "\n",
    "# Then read the business idea:\n",
    "\n",
    "business_idea = response.text\n",
    "\n",
    "print(business_idea)\n",
    "\n",
    "# And repeat! In the next message, include the business idea within the message"
   ]
  },
  {
   "cell_type": "markdown",
   "metadata": {},
   "source": []
  },
  {
   "cell_type": "code",
   "execution_count": 35,
   "metadata": {},
   "outputs": [
    {
     "data": {
      "text/markdown": [
       "Let's explore the **Agriculture Sector** in Pakistan as a prime candidate for an Agentic AI opportunity.\n",
       "\n",
       "Here's why it's a compelling choice and how Agentic AI could be applied:\n",
       "\n",
       "**Why the Agriculture Sector in Pakistan is a Strong Candidate:**\n",
       "\n",
       "*   **Dominant Economic Contributor:** Agriculture is the backbone of Pakistan's economy, employing a significant portion of the population and contributing substantially to GDP.\n",
       "*   **Vulnerability to External Factors:** The sector is highly susceptible to unpredictable factors like weather patterns (monsoons, droughts, floods), pest infestations, and soil degradation.\n",
       "*   **Information Asymmetry:** Smallholder farmers often lack access to timely and accurate information regarding best farming practices, market prices, weather forecasts, and disease outbreaks.\n",
       "*   **Need for Efficiency and Yield Improvement:** To feed a growing population and increase export potential, there's a constant need to improve crop yields, reduce waste, and optimize resource usage (water, fertilizers).\n",
       "*   **Emerging Digitalization:** While traditional, there's a growing penetration of mobile phones and increasing internet access, creating a platform for digital solutions.\n",
       "*   **Government Focus and Potential Support:** The government often prioritizes agricultural development, making it a sector where innovative solutions might find receptive ears and potential partnerships.\n",
       "\n",
       "**Agentic AI Opportunity: Precision Agriculture & Farmer Advisory System**\n",
       "\n",
       "An Agentic AI system could be developed to act as a **\"Digital Farm Manager & Advisor\"** for individual farmers or farmer cooperatives. This agent would possess the ability to:\n",
       "\n",
       "**Core Capabilities of the Agentic AI:**\n",
       "\n",
       "1.  **Data Ingestion and Analysis:**\n",
       "    *   **Weather Data:** Ingest real-time and historical weather data from meteorological agencies, satellite imagery, and localized sensors.\n",
       "    *   **Soil Data:** Integrate soil sensor data (if available) or use broader regional soil maps to understand nutrient levels and composition.\n",
       "    *   **Crop Data:** Learn about specific crop types, their growth stages, and optimal conditions.\n",
       "    *   **Pest & Disease Data:** Monitor reports of pest outbreaks and disease prevalence in the region.\n",
       "    *   **Market Price Data:** Track commodity prices from local and national markets.\n",
       "    *   **Satellite & Drone Imagery:** Process imagery for crop health monitoring, identifying stress, nutrient deficiencies, and pest infestations.\n",
       "\n",
       "2.  **Proactive Monitoring and Alerting:**\n",
       "    *   **Predictive Weather Alerts:** Warn farmers of upcoming extreme weather events (frost, heavy rain, drought) and suggest preemptive actions (e.g., irrigation adjustments, covering crops).\n",
       "    *   **Pest & Disease Early Warning:** Identify early signs of pest infestations or disease outbreaks based on analyzed data and local reports, recommending targeted and timely interventions.\n",
       "    *   **Nutrient Deficiency Detection:** Flag potential nutrient deficiencies based on crop health indicators and suggest appropriate fertilizer applications.\n",
       "\n",
       "3.  **Personalized Recommendation Engine:**\n",
       "    *   **Optimized Irrigation:** Recommend precise watering schedules and quantities based on crop type, growth stage, soil moisture, and weather forecasts, minimizing water wastage.\n",
       "    *   **Targeted Fertilization:** Advise on the type, amount, and timing of fertilizer application to maximize nutrient uptake and minimize environmental impact.\n",
       "    *   **Pesticide & Herbicide Application:** Recommend the most effective and eco-friendly treatments, specifying the type, dosage, and application method, and importantly, the precise area needing treatment.\n",
       "    *   **Planting & Harvesting Recommendations:** Suggest optimal planting windows and harvest times based on weather predictions and crop maturity.\n",
       "    *   **Crop Rotation Advice:** Recommend suitable crop rotations to improve soil health and manage pests.\n",
       "\n",
       "4.  **Market Intelligence and Sales Support:**\n",
       "    *   **Price Forecasting:** Provide insights into potential price fluctuations for different crops in various markets.\n",
       "    *   **Demand Prediction:** Offer guidance on which crops might have higher demand in the near future.\n",
       "    *   **Connecting with Buyers:** Potentially facilitate connections with local buyers or cooperatives based on harvested produce.\n",
       "\n",
       "5.  **Interactive Learning and Support:**\n",
       "    *   **Natural Language Interaction:** Allow farmers to ask questions in their local language (e.g., Urdu, Punjabi, Sindhi) and receive clear, actionable advice.\n",
       "    *   **Visual Aids:** Provide visual guides or short video clips demonstrating recommended practices.\n",
       "    *   **Feedback Loop:** Learn from the outcomes of its recommendations and adapt its strategies over time.\n",
       "\n",
       "**How Agentic AI Enhances This Opportunity:**\n",
       "\n",
       "*   **Autonomy:** The agent can independently monitor data streams, identify issues, and formulate recommendations without constant human oversight.\n",
       "*   **Adaptability:** It can learn from new data, farmer feedback, and evolving environmental conditions to continuously improve its performance.\n",
       "*   **Proactiveness:** It doesn't just react to problems; it anticipates them and suggests preventative measures.\n",
       "*   **Personalization:** It can tailor recommendations to the specific needs and context of each individual farm.\n",
       "*   **Scalability:** Once developed, such a system can be scaled to serve millions of farmers across Pakistan.\n",
       "\n",
       "**Potential Business Models:**\n",
       "\n",
       "*   **Subscription-based Service:** Farmers pay a monthly or annual fee for access to the advisory system.\n",
       "*   **Freemium Model:** Basic services are free, with premium features (e.g., advanced analytics, direct buyer connections) available for a fee.\n",
       "*   **Partnerships with Agricultural Input Providers:** Collaborating with fertilizer companies, seed suppliers, or equipment manufacturers for targeted marketing or bundled services.\n",
       "*   **Government/NGO Grants & Partnerships:** Seeking funding from government initiatives or NGOs focused on agricultural development.\n",
       "*   **Data Monetization (Ethically):** Aggregating anonymized data to provide insights to researchers, policymakers, or larger agricultural businesses (with explicit consent).\n",
       "\n",
       "**Challenges and Considerations:**\n",
       "\n",
       "*   **Digital Literacy:** Ensuring the interface is user-friendly and accessible to farmers with varying levels of digital literacy.\n",
       "*   **Connectivity:** Addressing potential limitations in internet access in rural areas.\n",
       "*   **Data Availability & Quality:** Ensuring access to reliable and granular data for accurate analysis.\n",
       "*   **Trust and Adoption:** Building trust with farmers and demonstrating the tangible benefits of the system.\n",
       "*   **Language Barriers:** Developing robust natural language processing for local dialects.\n",
       "*   **Cost-Effectiveness:** Ensuring the service is affordable for smallholder farmers.\n",
       "\n",
       "**In conclusion, an Agentic AI-powered Precision Agriculture & Farmer Advisory System presents a significant and impactful opportunity in Pakistan's agriculture sector. By providing intelligent, personalized, and proactive guidance, such a system can empower farmers, improve yields, enhance sustainability, and contribute to the overall economic prosperity of the nation.**"
      ],
      "text/plain": [
       "<IPython.core.display.Markdown object>"
      ]
     },
     "metadata": {},
     "output_type": "display_data"
    }
   ],
   "source": [
    "from IPython.display import Markdown, display\n",
    "\n",
    "display(Markdown(business_idea))"
   ]
  },
  {
   "cell_type": "code",
   "execution_count": 37,
   "metadata": {},
   "outputs": [
    {
     "name": "stdout",
     "output_type": "stream",
     "text": [
      "Here are the top pain points and challenges faced in the agriculture sector in Pakistan, making it a prime candidate for an Agentic AI opportunity:\n",
      "\n",
      "*   **Vulnerability to Climate Change and Extreme Weather:**\n",
      "    *   **Droughts:** Leading to water scarcity and crop failure.\n",
      "    *   **Floods:** Causing widespread damage to crops, infrastructure, and soil.\n",
      "    *   **Unpredictable Monsoons:** Disrupting planting and harvesting schedules.\n",
      "    *   **Heatwaves and Frost:** Damaging crops at critical growth stages.\n",
      "\n",
      "*   **Information Asymmetry and Lack of Access to Expertise:**\n",
      "    *   **Limited access to timely and accurate weather forecasts.**\n",
      "    *   **Lack of knowledge on best farming practices and modern techniques.**\n",
      "    *   **Difficulty in accessing real-time market price information.**\n",
      "    *   **Inadequate guidance on pest and disease management.**\n",
      "    *   **Limited awareness of soil health and nutrient deficiencies.**\n",
      "\n",
      "*   **Pest and Disease Infestations:**\n",
      "    *   **Widespread and recurring outbreaks of various pests and diseases.**\n",
      "    *   **Ineffective or inappropriate pesticide use leading to resistance and environmental damage.**\n",
      "    *   **Lack of early detection and rapid response mechanisms.**\n",
      "\n",
      "*   **Suboptimal Resource Management:**\n",
      "    *   **Inefficient water usage due to traditional irrigation methods.**\n",
      "    *   **Overuse or underuse of fertilizers, leading to nutrient imbalances and environmental issues.**\n",
      "    *   **Poor land management practices and soil degradation.**\n",
      "\n",
      "*   **Market Access and Price Volatility:**\n",
      "    *   **Lack of direct access to lucrative markets and reliance on intermediaries.**\n",
      "    *   **Exploitation by middlemen and price manipulation.**\n",
      "    *   **Difficulty in forecasting market demand and prices.**\n",
      "    *   **Post-harvest losses due to inadequate storage and transportation.**\n",
      "\n",
      "*   **Low Adoption of Technology and Innovation:**\n",
      "    *   **Resistance to adopting new technologies due to cost, lack of knowledge, or trust.**\n",
      "    *   **Limited access to advanced farming equipment and machinery.**\n",
      "    *   **Low penetration of digital tools and platforms among smallholder farmers.**\n",
      "\n",
      "*   **Soil Degradation and Declining Fertility:**\n",
      "    *   **Continuous monoculture practices depleting soil nutrients.**\n",
      "    *   **Salinization and waterlogging in certain regions.**\n",
      "    *   **Lack of awareness and implementation of soil conservation techniques.**\n",
      "\n",
      "*   **Limited Financial Resources and Access to Credit:**\n",
      "    *   **Smallholder farmers often struggle to access capital for inputs, technology, or expansion.**\n",
      "    *   **High-interest rates and complex loan procedures.**\n",
      "\n",
      "*   **Labor Shortages and Skill Gaps:**\n",
      "    *   **Rural-to-urban migration leading to a shrinking agricultural workforce.**\n",
      "    *   **Lack of skilled labor for operating modern farming equipment.**\n",
      "\n",
      "*   **Policy and Regulatory Challenges:**\n",
      "    *   **Inconsistent government policies and support mechanisms.**\n",
      "    *   **Challenges in implementing and enforcing agricultural regulations.**\n",
      "    *   **Bureaucratic hurdles for farmers seeking assistance or subsidies.**\n"
     ]
    },
    {
     "data": {
      "text/markdown": [
       "Here are the top pain points and challenges faced in the agriculture sector in Pakistan, making it a prime candidate for an Agentic AI opportunity:\n",
       "\n",
       "*   **Vulnerability to Climate Change and Extreme Weather:**\n",
       "    *   **Droughts:** Leading to water scarcity and crop failure.\n",
       "    *   **Floods:** Causing widespread damage to crops, infrastructure, and soil.\n",
       "    *   **Unpredictable Monsoons:** Disrupting planting and harvesting schedules.\n",
       "    *   **Heatwaves and Frost:** Damaging crops at critical growth stages.\n",
       "\n",
       "*   **Information Asymmetry and Lack of Access to Expertise:**\n",
       "    *   **Limited access to timely and accurate weather forecasts.**\n",
       "    *   **Lack of knowledge on best farming practices and modern techniques.**\n",
       "    *   **Difficulty in accessing real-time market price information.**\n",
       "    *   **Inadequate guidance on pest and disease management.**\n",
       "    *   **Limited awareness of soil health and nutrient deficiencies.**\n",
       "\n",
       "*   **Pest and Disease Infestations:**\n",
       "    *   **Widespread and recurring outbreaks of various pests and diseases.**\n",
       "    *   **Ineffective or inappropriate pesticide use leading to resistance and environmental damage.**\n",
       "    *   **Lack of early detection and rapid response mechanisms.**\n",
       "\n",
       "*   **Suboptimal Resource Management:**\n",
       "    *   **Inefficient water usage due to traditional irrigation methods.**\n",
       "    *   **Overuse or underuse of fertilizers, leading to nutrient imbalances and environmental issues.**\n",
       "    *   **Poor land management practices and soil degradation.**\n",
       "\n",
       "*   **Market Access and Price Volatility:**\n",
       "    *   **Lack of direct access to lucrative markets and reliance on intermediaries.**\n",
       "    *   **Exploitation by middlemen and price manipulation.**\n",
       "    *   **Difficulty in forecasting market demand and prices.**\n",
       "    *   **Post-harvest losses due to inadequate storage and transportation.**\n",
       "\n",
       "*   **Low Adoption of Technology and Innovation:**\n",
       "    *   **Resistance to adopting new technologies due to cost, lack of knowledge, or trust.**\n",
       "    *   **Limited access to advanced farming equipment and machinery.**\n",
       "    *   **Low penetration of digital tools and platforms among smallholder farmers.**\n",
       "\n",
       "*   **Soil Degradation and Declining Fertility:**\n",
       "    *   **Continuous monoculture practices depleting soil nutrients.**\n",
       "    *   **Salinization and waterlogging in certain regions.**\n",
       "    *   **Lack of awareness and implementation of soil conservation techniques.**\n",
       "\n",
       "*   **Limited Financial Resources and Access to Credit:**\n",
       "    *   **Smallholder farmers often struggle to access capital for inputs, technology, or expansion.**\n",
       "    *   **High-interest rates and complex loan procedures.**\n",
       "\n",
       "*   **Labor Shortages and Skill Gaps:**\n",
       "    *   **Rural-to-urban migration leading to a shrinking agricultural workforce.**\n",
       "    *   **Lack of skilled labor for operating modern farming equipment.**\n",
       "\n",
       "*   **Policy and Regulatory Challenges:**\n",
       "    *   **Inconsistent government policies and support mechanisms.**\n",
       "    *   **Challenges in implementing and enforcing agricultural regulations.**\n",
       "    *   **Bureaucratic hurdles for farmers seeking assistance or subsidies.**"
      ],
      "text/plain": [
       "<IPython.core.display.Markdown object>"
      ]
     },
     "metadata": {},
     "output_type": "display_data"
    }
   ],
   "source": [
    "respose = model.generate_content(\n",
    "    f\"List the top pain points and challenges faced in the {business_idea} industry in Pakistan. \"\n",
    "    \"Provide them as a bullet list.\"\n",
    ")\n",
    "points = respose.text\n",
    "print(points)\n",
    "\n",
    "from IPython.display import Markdown, display\n",
    "display(Markdown(points))"
   ]
  },
  {
   "cell_type": "code",
   "execution_count": null,
   "metadata": {},
   "outputs": [],
   "source": []
  }
 ],
 "metadata": {
  "kernelspec": {
   "display_name": ".venv",
   "language": "python",
   "name": "python3"
  },
  "language_info": {
   "codemirror_mode": {
    "name": "ipython",
    "version": 3
   },
   "file_extension": ".py",
   "mimetype": "text/x-python",
   "name": "python",
   "nbconvert_exporter": "python",
   "pygments_lexer": "ipython3",
   "version": "3.12.11"
  }
 },
 "nbformat": 4,
 "nbformat_minor": 2
}
